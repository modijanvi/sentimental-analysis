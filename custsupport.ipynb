{
 "cells": [
  {
   "cell_type": "code",
   "execution_count": 1,
   "metadata": {},
   "outputs": [
    {
     "data": {
      "application/vnd.jupyter.widget-view+json": {
       "model_id": "1631b83ede6f4b3e9b63c7fa185fb4ff",
       "version_major": 2,
       "version_minor": 0
      },
      "text/plain": [
       "HBox(children=(IntProgress(value=1, bar_style='info', max=1), HTML(value='')))"
      ]
     },
     "metadata": {},
     "output_type": "display_data"
    },
    {
     "name": "stdout",
     "output_type": "stream",
     "text": [
      "\n"
     ]
    }
   ],
   "source": [
    "import re\n",
    "import numpy as np\n",
    "import pandas as pd\n",
    "import matplotlib\n",
    "#matplotlib.style.use('ggplot')\n",
    "import matplotlib.pyplot as plt\n",
    " \n",
    "width = 0.75\n",
    "plt.rcParams['xtick.labelsize'] = 15\n",
    "plt.rcParams['ytick.labelsize'] = 15\n",
    "plt.rcParams[\"font.weight\"] = \"bold\"\n",
    "plt.rcParams[\"axes.labelweight\"] = \"bold\"\n",
    "plt.axis('off')\n",
    "from nltk.corpus import stopwords\n",
    "from textblob import TextBlob\n",
    "import scattertext as st\n",
    "import spacy\n",
    "import spacy_cld\n",
    "\n",
    "from IPython.display import IFrame\n",
    "from IPython.core.display import display, HTML\n",
    "from collections import Counter\n",
    "from tqdm import tqdm_notebook as tqdm  # cool progress bars\n",
    "tqdm().pandas() "
   ]
  },
  {
   "cell_type": "code",
   "execution_count": 2,
   "metadata": {},
   "outputs": [
    {
     "name": "stdout",
     "output_type": "stream",
     "text": [
      "(5349, 7)\n"
     ]
    },
    {
     "data": {
      "text/html": [
       "<div>\n",
       "<style scoped>\n",
       "    .dataframe tbody tr th:only-of-type {\n",
       "        vertical-align: middle;\n",
       "    }\n",
       "\n",
       "    .dataframe tbody tr th {\n",
       "        vertical-align: top;\n",
       "    }\n",
       "\n",
       "    .dataframe thead th {\n",
       "        text-align: right;\n",
       "    }\n",
       "</style>\n",
       "<table border=\"1\" class=\"dataframe\">\n",
       "  <thead>\n",
       "    <tr style=\"text-align: right;\">\n",
       "      <th></th>\n",
       "      <th>tweet_id</th>\n",
       "      <th>author_id</th>\n",
       "      <th>inbound</th>\n",
       "      <th>created_at</th>\n",
       "      <th>text</th>\n",
       "      <th>response_tweet_id</th>\n",
       "      <th>in_response_to_tweet_id</th>\n",
       "    </tr>\n",
       "  </thead>\n",
       "  <tbody>\n",
       "    <tr>\n",
       "      <th>0</th>\n",
       "      <td>1</td>\n",
       "      <td>sprintcare</td>\n",
       "      <td>False</td>\n",
       "      <td>Tue Oct 31 22:10:47 +0000 2017</td>\n",
       "      <td>@115712 I understand. I would like to assist y...</td>\n",
       "      <td>2</td>\n",
       "      <td>3.0</td>\n",
       "    </tr>\n",
       "    <tr>\n",
       "      <th>1</th>\n",
       "      <td>2</td>\n",
       "      <td>115712</td>\n",
       "      <td>True</td>\n",
       "      <td>Tue Oct 31 22:11:45 +0000 2017</td>\n",
       "      <td>@sprintcare and how do you propose we do that</td>\n",
       "      <td>NaN</td>\n",
       "      <td>1.0</td>\n",
       "    </tr>\n",
       "    <tr>\n",
       "      <th>2</th>\n",
       "      <td>3</td>\n",
       "      <td>115712</td>\n",
       "      <td>True</td>\n",
       "      <td>Tue Oct 31 22:08:27 +0000 2017</td>\n",
       "      <td>@sprintcare I have sent several private messag...</td>\n",
       "      <td>1</td>\n",
       "      <td>4.0</td>\n",
       "    </tr>\n",
       "    <tr>\n",
       "      <th>3</th>\n",
       "      <td>4</td>\n",
       "      <td>sprintcare</td>\n",
       "      <td>False</td>\n",
       "      <td>Tue Oct 31 21:54:49 +0000 2017</td>\n",
       "      <td>@115712 Please send us a Private Message so th...</td>\n",
       "      <td>3</td>\n",
       "      <td>5.0</td>\n",
       "    </tr>\n",
       "    <tr>\n",
       "      <th>4</th>\n",
       "      <td>5</td>\n",
       "      <td>115712</td>\n",
       "      <td>True</td>\n",
       "      <td>Tue Oct 31 21:49:35 +0000 2017</td>\n",
       "      <td>@sprintcare I did.</td>\n",
       "      <td>4</td>\n",
       "      <td>6.0</td>\n",
       "    </tr>\n",
       "  </tbody>\n",
       "</table>\n",
       "</div>"
      ],
      "text/plain": [
       "   tweet_id   author_id  inbound                      created_at  \\\n",
       "0         1  sprintcare    False  Tue Oct 31 22:10:47 +0000 2017   \n",
       "1         2      115712     True  Tue Oct 31 22:11:45 +0000 2017   \n",
       "2         3      115712     True  Tue Oct 31 22:08:27 +0000 2017   \n",
       "3         4  sprintcare    False  Tue Oct 31 21:54:49 +0000 2017   \n",
       "4         5      115712     True  Tue Oct 31 21:49:35 +0000 2017   \n",
       "\n",
       "                                                text response_tweet_id  \\\n",
       "0  @115712 I understand. I would like to assist y...                 2   \n",
       "1      @sprintcare and how do you propose we do that               NaN   \n",
       "2  @sprintcare I have sent several private messag...                 1   \n",
       "3  @115712 Please send us a Private Message so th...                 3   \n",
       "4                                 @sprintcare I did.                 4   \n",
       "\n",
       "   in_response_to_tweet_id  \n",
       "0                      3.0  \n",
       "1                      1.0  \n",
       "2                      4.0  \n",
       "3                      5.0  \n",
       "4                      6.0  "
      ]
     },
     "execution_count": 2,
     "metadata": {},
     "output_type": "execute_result"
    }
   ],
   "source": [
    "tweets = pd.read_csv('small.csv',encoding='utf-8')\n",
    "print(tweets.shape)\n",
    "tweets.head()\n"
   ]
  },
  {
   "cell_type": "code",
   "execution_count": 3,
   "metadata": {},
   "outputs": [
    {
     "name": "stdout",
     "output_type": "stream",
     "text": [
      "Data shape: (1283, 14)\n"
     ]
    },
    {
     "data": {
      "text/html": [
       "<div>\n",
       "<style scoped>\n",
       "    .dataframe tbody tr th:only-of-type {\n",
       "        vertical-align: middle;\n",
       "    }\n",
       "\n",
       "    .dataframe tbody tr th {\n",
       "        vertical-align: top;\n",
       "    }\n",
       "\n",
       "    .dataframe thead th {\n",
       "        text-align: right;\n",
       "    }\n",
       "</style>\n",
       "<table border=\"1\" class=\"dataframe\">\n",
       "  <thead>\n",
       "    <tr style=\"text-align: right;\">\n",
       "      <th></th>\n",
       "      <th>tweet_id_x</th>\n",
       "      <th>author_id_x</th>\n",
       "      <th>inbound_x</th>\n",
       "      <th>created_at_x</th>\n",
       "      <th>text_x</th>\n",
       "      <th>response_tweet_id_x</th>\n",
       "      <th>in_response_to_tweet_id_x</th>\n",
       "      <th>tweet_id_y</th>\n",
       "      <th>author_id_y</th>\n",
       "      <th>inbound_y</th>\n",
       "      <th>created_at_y</th>\n",
       "      <th>text_y</th>\n",
       "      <th>response_tweet_id_y</th>\n",
       "      <th>in_response_to_tweet_id_y</th>\n",
       "    </tr>\n",
       "  </thead>\n",
       "  <tbody>\n",
       "    <tr>\n",
       "      <th>0</th>\n",
       "      <td>8</td>\n",
       "      <td>115712</td>\n",
       "      <td>True</td>\n",
       "      <td>Tue Oct 31 21:45:10 +0000 2017</td>\n",
       "      <td>@sprintcare is the worst customer service</td>\n",
       "      <td>9,6,10</td>\n",
       "      <td>NaN</td>\n",
       "      <td>6</td>\n",
       "      <td>sprintcare</td>\n",
       "      <td>False</td>\n",
       "      <td>Tue Oct 31 21:46:24 +0000 2017</td>\n",
       "      <td>@115712 Can you please send us a private messa...</td>\n",
       "      <td>5,7</td>\n",
       "      <td>8.0</td>\n",
       "    </tr>\n",
       "    <tr>\n",
       "      <th>1</th>\n",
       "      <td>18</td>\n",
       "      <td>115713</td>\n",
       "      <td>True</td>\n",
       "      <td>Tue Oct 31 19:56:01 +0000 2017</td>\n",
       "      <td>@115714 y’all lie about your “great” connectio...</td>\n",
       "      <td>17</td>\n",
       "      <td>NaN</td>\n",
       "      <td>17</td>\n",
       "      <td>sprintcare</td>\n",
       "      <td>False</td>\n",
       "      <td>Tue Oct 31 19:59:13 +0000 2017</td>\n",
       "      <td>@115713 H there! We'd definitely like to work ...</td>\n",
       "      <td>16</td>\n",
       "      <td>18.0</td>\n",
       "    </tr>\n",
       "    <tr>\n",
       "      <th>2</th>\n",
       "      <td>20</td>\n",
       "      <td>115715</td>\n",
       "      <td>True</td>\n",
       "      <td>Tue Oct 31 22:03:34 +0000 2017</td>\n",
       "      <td>@115714 whenever I contact customer support, t...</td>\n",
       "      <td>19</td>\n",
       "      <td>NaN</td>\n",
       "      <td>19</td>\n",
       "      <td>sprintcare</td>\n",
       "      <td>False</td>\n",
       "      <td>Tue Oct 31 22:10:10 +0000 2017</td>\n",
       "      <td>@115715 Please send me a private message so th...</td>\n",
       "      <td>NaN</td>\n",
       "      <td>20.0</td>\n",
       "    </tr>\n",
       "    <tr>\n",
       "      <th>3</th>\n",
       "      <td>29</td>\n",
       "      <td>115716</td>\n",
       "      <td>True</td>\n",
       "      <td>Tue Oct 31 22:01:35 +0000 2017</td>\n",
       "      <td>actually that's a broken link you sent me and ...</td>\n",
       "      <td>28</td>\n",
       "      <td>NaN</td>\n",
       "      <td>28</td>\n",
       "      <td>Ask_Spectrum</td>\n",
       "      <td>False</td>\n",
       "      <td>Tue Oct 31 22:05:37 +0000 2017</td>\n",
       "      <td>@115716 The information pertaining to the acco...</td>\n",
       "      <td>24</td>\n",
       "      <td>29.0</td>\n",
       "    </tr>\n",
       "    <tr>\n",
       "      <th>4</th>\n",
       "      <td>31</td>\n",
       "      <td>115717</td>\n",
       "      <td>True</td>\n",
       "      <td>Tue Oct 31 22:06:54 +0000 2017</td>\n",
       "      <td>Yo @Ask_Spectrum, your customer service reps a...</td>\n",
       "      <td>30</td>\n",
       "      <td>NaN</td>\n",
       "      <td>30</td>\n",
       "      <td>Ask_Spectrum</td>\n",
       "      <td>False</td>\n",
       "      <td>Tue Oct 31 22:12:09 +0000 2017</td>\n",
       "      <td>@115717 Hello, My apologies for any frustratio...</td>\n",
       "      <td>NaN</td>\n",
       "      <td>31.0</td>\n",
       "    </tr>\n",
       "  </tbody>\n",
       "</table>\n",
       "</div>"
      ],
      "text/plain": [
       "   tweet_id_x author_id_x  inbound_x                    created_at_x  \\\n",
       "0           8      115712       True  Tue Oct 31 21:45:10 +0000 2017   \n",
       "1          18      115713       True  Tue Oct 31 19:56:01 +0000 2017   \n",
       "2          20      115715       True  Tue Oct 31 22:03:34 +0000 2017   \n",
       "3          29      115716       True  Tue Oct 31 22:01:35 +0000 2017   \n",
       "4          31      115717       True  Tue Oct 31 22:06:54 +0000 2017   \n",
       "\n",
       "                                              text_x response_tweet_id_x  \\\n",
       "0          @sprintcare is the worst customer service              9,6,10   \n",
       "1  @115714 y’all lie about your “great” connectio...                  17   \n",
       "2  @115714 whenever I contact customer support, t...                  19   \n",
       "3  actually that's a broken link you sent me and ...                  28   \n",
       "4  Yo @Ask_Spectrum, your customer service reps a...                  30   \n",
       "\n",
       "   in_response_to_tweet_id_x  tweet_id_y   author_id_y  inbound_y  \\\n",
       "0                        NaN           6    sprintcare      False   \n",
       "1                        NaN          17    sprintcare      False   \n",
       "2                        NaN          19    sprintcare      False   \n",
       "3                        NaN          28  Ask_Spectrum      False   \n",
       "4                        NaN          30  Ask_Spectrum      False   \n",
       "\n",
       "                     created_at_y  \\\n",
       "0  Tue Oct 31 21:46:24 +0000 2017   \n",
       "1  Tue Oct 31 19:59:13 +0000 2017   \n",
       "2  Tue Oct 31 22:10:10 +0000 2017   \n",
       "3  Tue Oct 31 22:05:37 +0000 2017   \n",
       "4  Tue Oct 31 22:12:09 +0000 2017   \n",
       "\n",
       "                                              text_y response_tweet_id_y  \\\n",
       "0  @115712 Can you please send us a private messa...                 5,7   \n",
       "1  @115713 H there! We'd definitely like to work ...                  16   \n",
       "2  @115715 Please send me a private message so th...                 NaN   \n",
       "3  @115716 The information pertaining to the acco...                  24   \n",
       "4  @115717 Hello, My apologies for any frustratio...                 NaN   \n",
       "\n",
       "   in_response_to_tweet_id_y  \n",
       "0                        8.0  \n",
       "1                       18.0  \n",
       "2                       20.0  \n",
       "3                       29.0  \n",
       "4                       31.0  "
      ]
     },
     "execution_count": 3,
     "metadata": {},
     "output_type": "execute_result"
    }
   ],
   "source": [
    "first_inbound = tweets[pd.isnull(tweets.in_response_to_tweet_id) & tweets.inbound]\n",
    "\n",
    "QnR = pd.merge(first_inbound, tweets, left_on='tweet_id', \n",
    "                                  right_on='in_response_to_tweet_id')\n",
    "\n",
    "# Filter to only outbound replies (from companies)\n",
    "QnR = QnR[QnR.inbound_y ^ True]\n",
    "print(f'Data shape: {QnR.shape}')\n",
    "QnR.head()"
   ]
  },
  {
   "cell_type": "code",
   "execution_count": 4,
   "metadata": {},
   "outputs": [
    {
     "name": "stdout",
     "output_type": "stream",
     "text": [
      "Removing anonymized screen names in X...\n"
     ]
    },
    {
     "data": {
      "application/vnd.jupyter.widget-view+json": {
       "model_id": "776d571c9d3b43819065810a360ed2c0",
       "version_major": 2,
       "version_minor": 0
      },
      "text/plain": [
       "HBox(children=(IntProgress(value=0, max=1283), HTML(value='')))"
      ]
     },
     "metadata": {},
     "output_type": "display_data"
    },
    {
     "name": "stdout",
     "output_type": "stream",
     "text": [
      "\n",
      "Removing anonymized screen names in Y...\n"
     ]
    },
    {
     "data": {
      "application/vnd.jupyter.widget-view+json": {
       "model_id": "e9f5e97f5a8544519188db4b2e51156a",
       "version_major": 2,
       "version_minor": 0
      },
      "text/plain": [
       "HBox(children=(IntProgress(value=0, max=1283), HTML(value='')))"
      ]
     },
     "metadata": {},
     "output_type": "display_data"
    },
    {
     "name": "stdout",
     "output_type": "stream",
     "text": [
      "\n"
     ]
    }
   ],
   "source": [
    "def sn_replace(match):\n",
    "    _sn = match.group(2).lower()\n",
    "    if not _sn.isnumeric():\n",
    "        # This is a company screen name\n",
    "        return match.group(1) + match.group(2)\n",
    "    return ''\n",
    "    \n",
    "sn_re = re.compile('(\\W@|^@)([a-zA-Z0-9_]+)')\n",
    "print(\"Removing anonymized screen names in X...\")\n",
    "QnR[\"text_x\"] = QnR.text_x.progress_apply(lambda txt: sn_re.sub(sn_replace, txt))\n",
    "print(\"Removing anonymized screen names in Y...\")\n",
    "QnR[\"text_y\"] = QnR.text_y.progress_apply(lambda txt: sn_re.sub(sn_replace, txt))"
   ]
  },
  {
   "cell_type": "code",
   "execution_count": 5,
   "metadata": {},
   "outputs": [
    {
     "data": {
      "text/html": [
       "<div>\n",
       "<style scoped>\n",
       "    .dataframe tbody tr th:only-of-type {\n",
       "        vertical-align: middle;\n",
       "    }\n",
       "\n",
       "    .dataframe tbody tr th {\n",
       "        vertical-align: top;\n",
       "    }\n",
       "\n",
       "    .dataframe thead th {\n",
       "        text-align: right;\n",
       "    }\n",
       "</style>\n",
       "<table border=\"1\" class=\"dataframe\">\n",
       "  <thead>\n",
       "    <tr style=\"text-align: right;\">\n",
       "      <th></th>\n",
       "      <th>author_id_x</th>\n",
       "      <th>created_at_x</th>\n",
       "      <th>text_x</th>\n",
       "      <th>author_id_y</th>\n",
       "      <th>created_at_y</th>\n",
       "      <th>text_y</th>\n",
       "    </tr>\n",
       "  </thead>\n",
       "  <tbody>\n",
       "    <tr>\n",
       "      <th>0</th>\n",
       "      <td>115712</td>\n",
       "      <td>Tue Oct 31 21:45:10 +0000 2017</td>\n",
       "      <td>@sprintcare is the worst customer service</td>\n",
       "      <td>sprintcare</td>\n",
       "      <td>Tue Oct 31 21:46:24 +0000 2017</td>\n",
       "      <td>Can you please send us a private message, so ...</td>\n",
       "    </tr>\n",
       "    <tr>\n",
       "      <th>1</th>\n",
       "      <td>115713</td>\n",
       "      <td>Tue Oct 31 19:56:01 +0000 2017</td>\n",
       "      <td>y’all lie about your “great” connection. 5 ba...</td>\n",
       "      <td>sprintcare</td>\n",
       "      <td>Tue Oct 31 19:59:13 +0000 2017</td>\n",
       "      <td>H there! We'd definitely like to work with yo...</td>\n",
       "    </tr>\n",
       "    <tr>\n",
       "      <th>2</th>\n",
       "      <td>115715</td>\n",
       "      <td>Tue Oct 31 22:03:34 +0000 2017</td>\n",
       "      <td>whenever I contact customer support, they tel...</td>\n",
       "      <td>sprintcare</td>\n",
       "      <td>Tue Oct 31 22:10:10 +0000 2017</td>\n",
       "      <td>Please send me a private message so that I ca...</td>\n",
       "    </tr>\n",
       "    <tr>\n",
       "      <th>3</th>\n",
       "      <td>115716</td>\n",
       "      <td>Tue Oct 31 22:01:35 +0000 2017</td>\n",
       "      <td>actually that's a broken link you sent me and ...</td>\n",
       "      <td>Ask_Spectrum</td>\n",
       "      <td>Tue Oct 31 22:05:37 +0000 2017</td>\n",
       "      <td>The information pertaining to the account ass...</td>\n",
       "    </tr>\n",
       "    <tr>\n",
       "      <th>4</th>\n",
       "      <td>115717</td>\n",
       "      <td>Tue Oct 31 22:06:54 +0000 2017</td>\n",
       "      <td>Yo @Ask_Spectrum, your customer service reps a...</td>\n",
       "      <td>Ask_Spectrum</td>\n",
       "      <td>Tue Oct 31 22:12:09 +0000 2017</td>\n",
       "      <td>Hello, My apologies for any frustrations or i...</td>\n",
       "    </tr>\n",
       "  </tbody>\n",
       "</table>\n",
       "</div>"
      ],
      "text/plain": [
       "  author_id_x                    created_at_x  \\\n",
       "0      115712  Tue Oct 31 21:45:10 +0000 2017   \n",
       "1      115713  Tue Oct 31 19:56:01 +0000 2017   \n",
       "2      115715  Tue Oct 31 22:03:34 +0000 2017   \n",
       "3      115716  Tue Oct 31 22:01:35 +0000 2017   \n",
       "4      115717  Tue Oct 31 22:06:54 +0000 2017   \n",
       "\n",
       "                                              text_x   author_id_y  \\\n",
       "0          @sprintcare is the worst customer service    sprintcare   \n",
       "1   y’all lie about your “great” connection. 5 ba...    sprintcare   \n",
       "2   whenever I contact customer support, they tel...    sprintcare   \n",
       "3  actually that's a broken link you sent me and ...  Ask_Spectrum   \n",
       "4  Yo @Ask_Spectrum, your customer service reps a...  Ask_Spectrum   \n",
       "\n",
       "                     created_at_y  \\\n",
       "0  Tue Oct 31 21:46:24 +0000 2017   \n",
       "1  Tue Oct 31 19:59:13 +0000 2017   \n",
       "2  Tue Oct 31 22:10:10 +0000 2017   \n",
       "3  Tue Oct 31 22:05:37 +0000 2017   \n",
       "4  Tue Oct 31 22:12:09 +0000 2017   \n",
       "\n",
       "                                              text_y  \n",
       "0   Can you please send us a private message, so ...  \n",
       "1   H there! We'd definitely like to work with yo...  \n",
       "2   Please send me a private message so that I ca...  \n",
       "3   The information pertaining to the account ass...  \n",
       "4   Hello, My apologies for any frustrations or i...  "
      ]
     },
     "execution_count": 5,
     "metadata": {},
     "output_type": "execute_result"
    }
   ],
   "source": [
    "QnR = QnR[[\"author_id_x\",\"created_at_x\",\"text_x\",\"author_id_y\",\"created_at_y\",\"text_y\"]]\n",
    "QnR.head(5)"
   ]
  },
  {
   "cell_type": "code",
   "execution_count": 6,
   "metadata": {},
   "outputs": [
    {
     "data": {
      "image/png": "[encoded data removed]",
      "text/plain": [
       "<Figure size 720x576 with 1 Axes>"
      ]
     },
     "metadata": {
      "needs_background": "light"
     },
     "output_type": "display_data"
    }
   ],
   "source": [
    "count = QnR.groupby(\"author_id_y\")[\"text_x\"].count()\n",
    "c = count[count>50].plot(kind='barh',figsize=(10, 8), color='#619CFF', zorder=2, width=width,)\n",
    "c.set_ylabel('')\n",
    "plt.show()"
   ]
  },
  {
   "cell_type": "code",
   "execution_count": 8,
   "metadata": {},
   "outputs": [],
   "source": [
    "amazonQnR = QnR[QnR[\"author_id_y\"]==\"AmazonHelp\"]"
   ]
  },
  {
   "cell_type": "code",
   "execution_count": 7,
   "metadata": {},
   "outputs": [],
   "source": [
    "amazonQnR = QnR[QnR[\"author_id_y\"]==\"AmazonHelp\"]"
   ]
  },
  {
   "cell_type": "code",
   "execution_count": 8,
   "metadata": {},
   "outputs": [],
   "source": [
    "nlp_cld = spacy.load('en_core_web_sm',disable_pipes=[\"tagger\",\"ner\"])\n",
    "language_detector = spacy_cld.LanguageDetector()\n",
    "nlp_cld.add_pipe(language_detector)"
   ]
  },
  {
   "cell_type": "code",
   "execution_count": 9,
   "metadata": {},
   "outputs": [
    {
     "name": "stdout",
     "output_type": "stream",
     "text": [
      " also, beim Addams Family-Film in Prime sind Bild und Ton nicht wirklich synchron. Wie kommt's?\n",
      "['de']\n",
      "{'de': 0.98}\n"
     ]
    }
   ],
   "source": [
    "doc = nlp_cld(amazonQnR.iloc[4][\"text_x\"])\n",
    "print(doc)\n",
    "print(doc._.languages)  \n",
    "print(doc._.language_scores)"
   ]
  },
  {
   "cell_type": "code",
   "execution_count": 10,
   "metadata": {},
   "outputs": [
    {
     "data": {
      "application/vnd.jupyter.widget-view+json": {
       "model_id": "3759344788b947c592720246acbbd37a",
       "version_major": 2,
       "version_minor": 0
      },
      "text/plain": [
       "HBox(children=(IntProgress(value=1, bar_style='info', max=1), HTML(value='')))"
      ]
     },
     "metadata": {},
     "output_type": "display_data"
    },
    {
     "name": "stdout",
     "output_type": "stream",
     "text": [
      "\n"
     ]
    }
   ],
   "source": [
    "mask = []\n",
    "try:\n",
    "    for i,doc in tqdm(enumerate(nlp_cld.pipe(amazonQnR[\"text_x\"], batch_size=512))):\n",
    "            if 'en' not in doc._.languages or len(doc._.languages) != 1:\n",
    "                mask.append(False)\n",
    "            else:\n",
    "                mask.append(True)\n",
    "except Exception:\n",
    "    print(\"excepted \")"
   ]
  },
  {
   "cell_type": "code",
   "execution_count": 11,
   "metadata": {},
   "outputs": [
    {
     "data": {
      "text/html": [
       "<div>\n",
       "<style scoped>\n",
       "    .dataframe tbody tr th:only-of-type {\n",
       "        vertical-align: middle;\n",
       "    }\n",
       "\n",
       "    .dataframe tbody tr th {\n",
       "        vertical-align: top;\n",
       "    }\n",
       "\n",
       "    .dataframe thead th {\n",
       "        text-align: right;\n",
       "    }\n",
       "</style>\n",
       "<table border=\"1\" class=\"dataframe\">\n",
       "  <thead>\n",
       "    <tr style=\"text-align: right;\">\n",
       "      <th></th>\n",
       "      <th>author_id_x</th>\n",
       "      <th>created_at_x</th>\n",
       "      <th>text_x</th>\n",
       "      <th>author_id_y</th>\n",
       "      <th>created_at_y</th>\n",
       "      <th>text_y</th>\n",
       "    </tr>\n",
       "  </thead>\n",
       "  <tbody>\n",
       "  </tbody>\n",
       "</table>\n",
       "</div>"
      ],
      "text/plain": [
       "Empty DataFrame\n",
       "Columns: [author_id_x, created_at_x, text_x, author_id_y, created_at_y, text_y]\n",
       "Index: []"
      ]
     },
     "execution_count": 11,
     "metadata": {},
     "output_type": "execute_result"
    }
   ],
   "source": [
    "amazonQnR = amazonQnR[mask]\n",
    "# sample a random fraction to visually ensure that we have only English tweets\n",
    "amazonQnR.sample(frac=0.0002)    "
   ]
  },
  {
   "cell_type": "code",
   "execution_count": 12,
   "metadata": {},
   "outputs": [
    {
     "data": {
      "text/plain": [
       "1035    Just had my first Prime Now delivery. 2 hours ...\n",
       "1037    I have 2 echos and set up multi room music pla...\n",
       "1038    @AmazonHelp Someone keeps trying to buy playst...\n",
       "1041    @AmazonHelp live chat down in the UK and as a ...\n",
       "1176     I have stopped ordering from your site, Amazo...\n",
       "1177     I have stopped ordering from your site, Amazo...\n",
       "1178    I go to watch #thebay and episode 7 &amp; 8 ar...\n",
       "1179    I lost my signal while searching something in ...\n",
       "1180     #HappyHalloween2017 from your biggest fan. Th...\n",
       "1262     So for the 4th time the package I ordered was...\n",
       "Name: text_x, dtype: object"
      ]
     },
     "execution_count": 12,
     "metadata": {},
     "output_type": "execute_result"
    }
   ],
   "source": [
    "amazonQnR.tail(10)[\"text_x\"]"
   ]
  },
  {
   "cell_type": "code",
   "execution_count": 13,
   "metadata": {},
   "outputs": [],
   "source": [
    "nlp = spacy.load(\"en_core_web_sm\",disable_pipes=[\"tagger\"])\n",
    "\n",
    "from spacymoji import Emoji\n",
    "emoji = Emoji(nlp)\n",
    "nlp.add_pipe(emoji, first=True)"
   ]
  },
  {
   "cell_type": "code",
   "execution_count": 14,
   "metadata": {},
   "outputs": [
    {
     "name": "stdout",
     "output_type": "stream",
     "text": [
      "['emoji', 'tagger', 'parser', 'ner']\n"
     ]
    }
   ],
   "source": [
    "print(nlp.pipe_names)"
   ]
  },
  {
   "cell_type": "code",
   "execution_count": 15,
   "metadata": {},
   "outputs": [
    {
     "data": {
      "application/vnd.jupyter.widget-view+json": {
       "model_id": "4a786cb0344f41b19070840c7b54c4ab",
       "version_major": 2,
       "version_minor": 0
      },
      "text/plain": [
       "HBox(children=(IntProgress(value=1, bar_style='info', max=1), HTML(value='')))"
      ]
     },
     "metadata": {},
     "output_type": "display_data"
    },
    {
     "name": "stdout",
     "output_type": "stream",
     "text": [
      "\n"
     ]
    }
   ],
   "source": [
    "emojis = []\n",
    "for doc in tqdm(nlp.pipe(amazonQnR[\"text_x\"], batch_size=512)):\n",
    "    if doc._.has_emoji:\n",
    "        for e in doc._.emoji:\n",
    "            emojis.extend(e[0])"
   ]
  },
  {
   "cell_type": "code",
   "execution_count": 16,
   "metadata": {},
   "outputs": [
    {
     "data": {
      "text/plain": [
       "[('😡', 5), ('😒', 5), ('😠', 3), ('👏', 2), ('😩', 1), ('💔', 1), ('😭', 1)]"
      ]
     },
     "execution_count": 16,
     "metadata": {},
     "output_type": "execute_result"
    }
   ],
   "source": [
    "eCount = Counter(emojis)\n",
    "eCount.most_common(10)"
   ]
  },
  {
   "cell_type": "code",
   "execution_count": 17,
   "metadata": {},
   "outputs": [
    {
     "data": {
      "application/vnd.jupyter.widget-view+json": {
       "model_id": "48eb8772e85646b495d77684f6a8ee8a",
       "version_major": 2,
       "version_minor": 0
      },
      "text/plain": [
       "HBox(children=(IntProgress(value=1, bar_style='info', max=1), HTML(value='')))"
      ]
     },
     "metadata": {},
     "output_type": "display_data"
    },
    {
     "name": "stdout",
     "output_type": "stream",
     "text": [
      "\n"
     ]
    }
   ],
   "source": [
    "response_emojis = []\n",
    "for doc in tqdm(nlp.pipe(amazonQnR[\"text_y\"], batch_size=512)):\n",
    "    elist = []\n",
    "    if doc._.has_emoji:\n",
    "        for e in doc._.emoji:\n",
    "            elist.append(e[0])\n",
    "    response_emojis.append(elist)"
   ]
  },
  {
   "cell_type": "code",
   "execution_count": 18,
   "metadata": {},
   "outputs": [
    {
     "data": {
      "text/plain": [
       "[('🐶', 1)]"
      ]
     },
     "execution_count": 18,
     "metadata": {},
     "output_type": "execute_result"
    }
   ],
   "source": [
    "Counter([item for sublist in response_emojis for item in sublist]).most_common(10)"
   ]
  },
  {
   "cell_type": "code",
   "execution_count": 19,
   "metadata": {},
   "outputs": [
    {
     "name": "stdout",
     "output_type": "stream",
     "text": [
      "positive_text sentiment :  0.8655\n",
      "negative_text sentiment :  -0.4754\n"
     ]
    }
   ],
   "source": [
    "from vaderSentiment.vaderSentiment import SentimentIntensityAnalyzer\n",
    "sent_analyser = SentimentIntensityAnalyzer()\n",
    "positive_text = \"love this phone! its the best one I've owned over the years\"\n",
    "negative_text = \"what sort of company makes such products? this phone hangs up all the time and is totally useless\"\n",
    "print(\"positive_text sentiment : \",sent_analyser.polarity_scores(positive_text)[\"compound\"])\n",
    "print(\"negative_text sentiment : \",sent_analyser.polarity_scores(negative_text)[\"compound\"])"
   ]
  },
  {
   "cell_type": "code",
   "execution_count": 20,
   "metadata": {},
   "outputs": [],
   "source": [
    "def sentiment(text):\n",
    "    return (sent_analyser.polarity_scores(text)[\"compound\"] + TextBlob(text).sentiment.polarity)/2\n",
    "amazonQnR[\"text_x_sentiment\"] = amazonQnR[\"text_x\"].apply(sentiment)"
   ]
  },
  {
   "cell_type": "code",
   "execution_count": 21,
   "metadata": {},
   "outputs": [],
   "source": [
    "response_emojis_for_positive_queries = []\n",
    "response_emojis_for_negative_queries = []\n",
    "for i,sentiment in enumerate(amazonQnR[\"text_x_sentiment\"]):\n",
    "    if sentiment > 0.0:\n",
    "        response_emojis_for_positive_queries.extend(response_emojis[i])\n",
    "    elif sentiment < 0.0:\n",
    "        response_emojis_for_negative_queries.extend(response_emojis[i])"
   ]
  },
  {
   "cell_type": "code",
   "execution_count": 22,
   "metadata": {},
   "outputs": [
    {
     "data": {
      "text/html": [
       "<div>\n",
       "<style scoped>\n",
       "    .dataframe tbody tr th:only-of-type {\n",
       "        vertical-align: middle;\n",
       "    }\n",
       "\n",
       "    .dataframe tbody tr th {\n",
       "        vertical-align: top;\n",
       "    }\n",
       "\n",
       "    .dataframe thead th {\n",
       "        text-align: right;\n",
       "    }\n",
       "</style>\n",
       "<table border=\"1\" class=\"dataframe\">\n",
       "  <thead>\n",
       "    <tr style=\"text-align: right;\">\n",
       "      <th></th>\n",
       "      <th>author_id_x</th>\n",
       "      <th>created_at_x</th>\n",
       "      <th>text_x</th>\n",
       "      <th>author_id_y</th>\n",
       "      <th>created_at_y</th>\n",
       "      <th>text_y</th>\n",
       "      <th>text_x_sentiment</th>\n",
       "    </tr>\n",
       "  </thead>\n",
       "  <tbody>\n",
       "    <tr>\n",
       "      <th>78</th>\n",
       "      <td>115822</td>\n",
       "      <td>Tue Oct 31 22:19:34 +0000 2017</td>\n",
       "      <td>I want my amazon payments account CLOSED.  dm...</td>\n",
       "      <td>AmazonHelp</td>\n",
       "      <td>Tue Oct 31 22:28:34 +0000 2017</td>\n",
       "      <td>I am unable to affect your account via Twitte...</td>\n",
       "      <td>0.205300</td>\n",
       "    </tr>\n",
       "    <tr>\n",
       "      <th>81</th>\n",
       "      <td>115829</td>\n",
       "      <td>Tue Oct 31 21:34:58 +0000 2017</td>\n",
       "      <td>my package was ‘accidentally’ opened.. 4 item...</td>\n",
       "      <td>AmazonHelp</td>\n",
       "      <td>Tue Oct 31 22:27:00 +0000 2017</td>\n",
       "      <td>I'm sorry your order arrived in this conditio...</td>\n",
       "      <td>0.392475</td>\n",
       "    </tr>\n",
       "    <tr>\n",
       "      <th>83</th>\n",
       "      <td>115832</td>\n",
       "      <td>Tue Oct 31 22:05:36 +0000 2017</td>\n",
       "      <td>Thanks for the style advice, look ...I think? ...</td>\n",
       "      <td>AmazonHelp</td>\n",
       "      <td>Tue Oct 31 22:26:07 +0000 2017</td>\n",
       "      <td>Alexa says both styles are working for you! M...</td>\n",
       "      <td>0.320200</td>\n",
       "    </tr>\n",
       "    <tr>\n",
       "      <th>87</th>\n",
       "      <td>115838</td>\n",
       "      <td>Tue Oct 31 22:11:15 +0000 2017</td>\n",
       "      <td>@AmazonHelp Is it possible to prevent AMZL fro...</td>\n",
       "      <td>AmazonHelp</td>\n",
       "      <td>Tue Oct 31 22:24:47 +0000 2017</td>\n",
       "      <td>Oh no! We want to hear more about your experi...</td>\n",
       "      <td>0.012900</td>\n",
       "    </tr>\n",
       "    <tr>\n",
       "      <th>88</th>\n",
       "      <td>115839</td>\n",
       "      <td>Tue Oct 31 22:02:14 +0000 2017</td>\n",
       "      <td>, it’d be nice if the book I waited 4 months f...</td>\n",
       "      <td>AmazonHelp</td>\n",
       "      <td>Tue Oct 31 22:11:00 +0000 2017</td>\n",
       "      <td>I'm sorry your book arrived this way! You can...</td>\n",
       "      <td>0.287100</td>\n",
       "    </tr>\n",
       "  </tbody>\n",
       "</table>\n",
       "</div>"
      ],
      "text/plain": [
       "   author_id_x                    created_at_x  \\\n",
       "78      115822  Tue Oct 31 22:19:34 +0000 2017   \n",
       "81      115829  Tue Oct 31 21:34:58 +0000 2017   \n",
       "83      115832  Tue Oct 31 22:05:36 +0000 2017   \n",
       "87      115838  Tue Oct 31 22:11:15 +0000 2017   \n",
       "88      115839  Tue Oct 31 22:02:14 +0000 2017   \n",
       "\n",
       "                                               text_x author_id_y  \\\n",
       "78   I want my amazon payments account CLOSED.  dm...  AmazonHelp   \n",
       "81   my package was ‘accidentally’ opened.. 4 item...  AmazonHelp   \n",
       "83  Thanks for the style advice, look ...I think? ...  AmazonHelp   \n",
       "87  @AmazonHelp Is it possible to prevent AMZL fro...  AmazonHelp   \n",
       "88  , it’d be nice if the book I waited 4 months f...  AmazonHelp   \n",
       "\n",
       "                      created_at_y  \\\n",
       "78  Tue Oct 31 22:28:34 +0000 2017   \n",
       "81  Tue Oct 31 22:27:00 +0000 2017   \n",
       "83  Tue Oct 31 22:26:07 +0000 2017   \n",
       "87  Tue Oct 31 22:24:47 +0000 2017   \n",
       "88  Tue Oct 31 22:11:00 +0000 2017   \n",
       "\n",
       "                                               text_y  text_x_sentiment  \n",
       "78   I am unable to affect your account via Twitte...          0.205300  \n",
       "81   I'm sorry your order arrived in this conditio...          0.392475  \n",
       "83   Alexa says both styles are working for you! M...          0.320200  \n",
       "87   Oh no! We want to hear more about your experi...          0.012900  \n",
       "88   I'm sorry your book arrived this way! You can...          0.287100  "
      ]
     },
     "execution_count": 22,
     "metadata": {},
     "output_type": "execute_result"
    }
   ],
   "source": [
    "amazonQnR[amazonQnR[\"text_x_sentiment\"]>0].head()"
   ]
  },
  {
   "cell_type": "code",
   "execution_count": 23,
   "metadata": {},
   "outputs": [
    {
     "data": {
      "text/plain": [
       "[]"
      ]
     },
     "execution_count": 23,
     "metadata": {},
     "output_type": "execute_result"
    }
   ],
   "source": [
    "Counter(response_emojis_for_positive_queries).most_common(10)"
   ]
  },
  {
   "cell_type": "code",
   "execution_count": 24,
   "metadata": {},
   "outputs": [
    {
     "data": {
      "text/plain": [
       "[('🐶', 1)]"
      ]
     },
     "execution_count": 24,
     "metadata": {},
     "output_type": "execute_result"
    }
   ],
   "source": [
    "Counter(response_emojis_for_negative_queries).most_common(10)"
   ]
  },
  {
   "cell_type": "code",
   "execution_count": 25,
   "metadata": {},
   "outputs": [
    {
     "data": {
      "image/png": "[encoded data removed]",
      "text/plain": [
       "<Figure size 720x576 with 1 Axes>"
      ]
     },
     "metadata": {
      "needs_background": "light"
     },
     "output_type": "display_data"
    }
   ],
   "source": [
    "count = QnR.groupby(\"author_id_y\")[\"text_x\"].count()\n",
    "c = count[count>50].plot(kind='barh',figsize=(10, 8), color='#619CFF', zorder=2, width=width,)\n",
    "c.set_ylabel('')\n",
    "plt.show()"
   ]
  },
  {
   "cell_type": "code",
   "execution_count": 26,
   "metadata": {},
   "outputs": [
    {
     "data": {
      "text/html": [
       "<div>\n",
       "<style scoped>\n",
       "    .dataframe tbody tr th:only-of-type {\n",
       "        vertical-align: middle;\n",
       "    }\n",
       "\n",
       "    .dataframe tbody tr th {\n",
       "        vertical-align: top;\n",
       "    }\n",
       "\n",
       "    .dataframe thead th {\n",
       "        text-align: right;\n",
       "    }\n",
       "</style>\n",
       "<table border=\"1\" class=\"dataframe\">\n",
       "  <thead>\n",
       "    <tr style=\"text-align: right;\">\n",
       "      <th></th>\n",
       "      <th>author_id_x</th>\n",
       "      <th>created_at_x</th>\n",
       "      <th>text_x</th>\n",
       "      <th>author_id_y</th>\n",
       "      <th>created_at_y</th>\n",
       "      <th>text_y</th>\n",
       "    </tr>\n",
       "  </thead>\n",
       "  <tbody>\n",
       "    <tr>\n",
       "      <th>128</th>\n",
       "      <td>115892</td>\n",
       "      <td>Tue Oct 31 16:08:21 +0000 2017</td>\n",
       "      <td>Hi @British_Airways! My flight from MAN--LHR--...</td>\n",
       "      <td>British_Airways</td>\n",
       "      <td>Tue Oct 31 22:28:36 +0000 2017</td>\n",
       "      <td>caused. We're unable to offer a complimentary...</td>\n",
       "    </tr>\n",
       "    <tr>\n",
       "      <th>129</th>\n",
       "      <td>115893</td>\n",
       "      <td>Tue Oct 31 16:47:55 +0000 2017</td>\n",
       "      <td>@British_Airways  will you ever address my com...</td>\n",
       "      <td>British_Airways</td>\n",
       "      <td>Tue Oct 31 22:26:11 +0000 2017</td>\n",
       "      <td>email address and contact telephone number. W...</td>\n",
       "    </tr>\n",
       "    <tr>\n",
       "      <th>130</th>\n",
       "      <td>115895</td>\n",
       "      <td>Tue Oct 31 16:05:25 +0000 2017</td>\n",
       "      <td>@British_Airways can I just confirm the email ...</td>\n",
       "      <td>British_Airways</td>\n",
       "      <td>Tue Oct 31 22:23:02 +0000 2017</td>\n",
       "      <td>Hi Sam, that is the correct email. ^Helen</td>\n",
       "    </tr>\n",
       "    <tr>\n",
       "      <th>131</th>\n",
       "      <td>115896</td>\n",
       "      <td>Tue Oct 31 15:53:10 +0000 2017</td>\n",
       "      <td>@British_Airways runway is under maintenance a...</td>\n",
       "      <td>British_Airways</td>\n",
       "      <td>Tue Oct 31 22:20:23 +0000 2017</td>\n",
       "      <td>Hi Sreejit, we have no info about this as yet...</td>\n",
       "    </tr>\n",
       "  </tbody>\n",
       "</table>\n",
       "</div>"
      ],
      "text/plain": [
       "    author_id_x                    created_at_x  \\\n",
       "128      115892  Tue Oct 31 16:08:21 +0000 2017   \n",
       "129      115893  Tue Oct 31 16:47:55 +0000 2017   \n",
       "130      115895  Tue Oct 31 16:05:25 +0000 2017   \n",
       "131      115896  Tue Oct 31 15:53:10 +0000 2017   \n",
       "\n",
       "                                                text_x      author_id_y  \\\n",
       "128  Hi @British_Airways! My flight from MAN--LHR--...  British_Airways   \n",
       "129  @British_Airways  will you ever address my com...  British_Airways   \n",
       "130  @British_Airways can I just confirm the email ...  British_Airways   \n",
       "131  @British_Airways runway is under maintenance a...  British_Airways   \n",
       "\n",
       "                       created_at_y  \\\n",
       "128  Tue Oct 31 22:28:36 +0000 2017   \n",
       "129  Tue Oct 31 22:26:11 +0000 2017   \n",
       "130  Tue Oct 31 22:23:02 +0000 2017   \n",
       "131  Tue Oct 31 22:20:23 +0000 2017   \n",
       "\n",
       "                                                text_y  \n",
       "128   caused. We're unable to offer a complimentary...  \n",
       "129   email address and contact telephone number. W...  \n",
       "130          Hi Sam, that is the correct email. ^Helen  \n",
       "131   Hi Sreejit, we have no info about this as yet...  "
      ]
     },
     "execution_count": 26,
     "metadata": {},
     "output_type": "execute_result"
    }
   ],
   "source": [
    "airlinesQnR = QnR[(QnR[\"author_id_y\"]==\"AmericanAir\")|(QnR[\"author_id_y\"]==\"British_Airways\")]\n",
    "airlinesQnR.head(4)"
   ]
  },
  {
   "cell_type": "code",
   "execution_count": 27,
   "metadata": {},
   "outputs": [
    {
     "data": {
      "application/vnd.jupyter.widget-view+json": {
       "model_id": "ac5fe374aa8441bd85ec834728731051",
       "version_major": 2,
       "version_minor": 0
      },
      "text/plain": [
       "HBox(children=(IntProgress(value=0, max=81), HTML(value='')))"
      ]
     },
     "metadata": {},
     "output_type": "display_data"
    },
    {
     "name": "stdout",
     "output_type": "stream",
     "text": [
      "\n"
     ]
    },
    {
     "data": {
      "text/plain": [
       "128      caused. we're unable offer complimentary upgr...\n",
       "129      email address contact telephone number. we'll...\n",
       "130                       h sam, is correct email. ^helen\n",
       "131      h sreejit, have info this yet. please keep ey...\n",
       "132      h david, confirmation emails take to 24 hrs. ...\n",
       "139      aww, that's definitely future pilot the makin...\n",
       "140      is great option customers want share miles it...\n",
       "141      always pleasure have on board, john. a wonder...\n",
       "142      pilots, potter, pumpkins skeletons...oh my! t...\n",
       "143      we're glad got kick back enjoy show flying! t...\n",
       "344      accept apologies. need be fair everyone has u...\n",
       "345      ask you wish any help questions. we're 24/7 w...\n",
       "346      we're disappointed hear stephen. there someth...\n",
       "353      never want experience be anything less perfec...\n",
       "354      thanks the shout-out for stopping by, marc! w...\n",
       "355      we're sorry any difficulties you've experienc...\n",
       "356      always want take care your bags. we're able f...\n",
       "357        we're happy you're happy! sure look delicious.\n",
       "573      h maggie, do advise call charges online when ...\n",
       "574      h diz, lima route currently suspended winter ...\n",
       "575      hi, please contact lagos office (+234) 70 942...\n",
       "576      h prashanth, have lounge amsterdam called lou...\n",
       "577      don't like hear this, julian. seat pitch comp...\n",
       "589      oh my, #guac looks delish! thanks always shar...\n",
       "590      guitar must fit underneath seat front you in ...\n",
       "591      please share record locator via dms we take l...\n",
       "592      you file report us? you did, please send us d...\n",
       "712      hear you, liam. we're working fast we to upda...\n",
       "713      thanks your kind words! hope have fantastic e...\n",
       "714      we're sorry that, perla. always want experien...\n",
       "                              ...                        \n",
       "818      service be consistent across board, stuart. s...\n",
       "819      congrats getting married! we're looking forwa...\n",
       "820       whoa, what's going that feeling way towards us?\n",
       "999      you let us know flight number? we'd like feed...\n",
       "1000     we're disappointed hear flight delayed, amy. ...\n",
       "1001     we're jealous. wish could got cuddle too. tha...\n",
       "1002     booking reference, email address contact tele...\n",
       "1003     h colin, pleased and teapot a great flight us...\n",
       "1004     date birth. can contact executive team will i...\n",
       "1005     h there, can still travel long you declared w...\n",
       "1006     happy halloween, joe. thanks your fantastic p...\n",
       "1007     welcome, mark. we'll pass your lovely comment...\n",
       "1008     h daniel, wouldn't offer complimentary upgrad...\n",
       "1009     please use link https://t.co/ezhtminqrk state...\n",
       "1010     h tony. issue been reported our faults team. ...\n",
       "1011     don't like hear this, chris. you report damag...\n",
       "1012     we're sorry unhappy the catering service boar...\n",
       "1043     we're glad our team able help. a fantastic ev...\n",
       "1230     have of best crew the business want to know w...\n",
       "1234     never want to feel way, appreciate feedback p...\n",
       "1239     oh my, we'd like have details what happened. ...\n",
       "1247     carry-on bag oversized the dimensions gave us...\n",
       "1253     that’s #faantastic hear smooth pilot’s landin...\n",
       "1280     h helen, can check your booking gone through....\n",
       "1281     oh no! are sorry the delay responding for del...\n",
       "1282     sorry hear again, rob. we'll add comments you...\n",
       "1283     would also helpful you could dm us booking re...\n",
       "1284     we're concerned read message, ethan. you dm u...\n",
       "1285     h clare, please accept apologies any  inconve...\n",
       "1303     want make sure communication crystal clear. p...\n",
       "Name: text_y, Length: 81, dtype: object"
      ]
     },
     "execution_count": 27,
     "metadata": {},
     "output_type": "execute_result"
    }
   ],
   "source": [
    "airlinesQnR[\"text_y\"] = airlinesQnR[\"text_y\"].str.lower()  \n",
    "stop = stopwords.words('english')\n",
    "big_regex = re.compile(' | '.join(stop))\n",
    "airlinesQnR[\"text_y\"].progress_apply(lambda x: big_regex.sub(\" \",x))"
   ]
  },
  {
   "cell_type": "code",
   "execution_count": 28,
   "metadata": {},
   "outputs": [
    {
     "data": {
      "application/vnd.jupyter.widget-view+json": {
       "model_id": "f017d06024214173bef3d2c607dc471f",
       "version_major": 2,
       "version_minor": 0
      },
      "text/plain": [
       "HBox(children=(IntProgress(value=0, max=81), HTML(value='')))"
      ]
     },
     "metadata": {},
     "output_type": "display_data"
    },
    {
     "name": "stdout",
     "output_type": "stream",
     "text": [
      "\n"
     ]
    }
   ],
   "source": [
    "import scattertext as st\n",
    "nlp = spacy.load('en_core_web_sm',disable_pipes=[\"tagger\",\"ner\"])\n",
    "airlinesQnR['parsed'] = airlinesQnR.text_y.progress_apply(nlp)"
   ]
  },
  {
   "cell_type": "code",
   "execution_count": 29,
   "metadata": {},
   "outputs": [],
   "source": [
    "corpus = st.CorpusFromParsedDocuments(airlinesQnR,\n",
    "                             category_col='author_id_y',\n",
    "                             parsed_col='parsed').build()"
   ]
  },
  {
   "cell_type": "code",
   "execution_count": 30,
   "metadata": {},
   "outputs": [
    {
     "name": "stderr",
     "output_type": "stream",
     "text": [
      "c:\\python36\\lib\\site-packages\\scattertext\\frequencyreaders\\DefaultBackgroundFrequencies.py:30: FutureWarning: read_table is deprecated, use read_csv instead, passing sep='\\t'.\n",
      "  names=['word', 'background'])\n"
     ]
    }
   ],
   "source": [
    "html = st.produce_scattertext_explorer(corpus,\n",
    "          category='British_Airways',\n",
    "          category_name='British Airways',\n",
    "          not_category_name='American Airlines',\n",
    "          width_in_pixels=600,\n",
    "          minimum_term_frequency=10,\n",
    "          term_significance = st.LogOddsRatioUninformativeDirichletPrior(),\n",
    "          )"
   ]
  },
  {
   "cell_type": "code",
   "execution_count": 31,
   "metadata": {},
   "outputs": [
    {
     "data": {
      "text/html": [
       "\n",
       "        <iframe\n",
       "            width=\"800\"\n",
       "            height=\"700\"\n",
       "            src=\"americanAir-vs-britishAirways.html\"\n",
       "            frameborder=\"0\"\n",
       "            allowfullscreen\n",
       "        ></iframe>\n",
       "        "
      ],
      "text/plain": [
       "<IPython.lib.display.IFrame at 0x1e761cdee80>"
      ]
     },
     "execution_count": 31,
     "metadata": {},
     "output_type": "execute_result"
    }
   ],
   "source": [
    "\n",
    "filename = \"americanAir-vs-britishAirways.html\"\n",
    "open(filename, 'wb').write(html.encode('utf-8'))\n",
    "IFrame(src=filename, width = 800, height=700)"
   ]
  },
  {
   "cell_type": "code",
   "execution_count": 32,
   "metadata": {},
   "outputs": [],
   "source": [
    "feat_builder = st.FeatsFromOnlyEmpath()\n",
    "empath_corpus = st.CorpusFromParsedDocuments(airlinesQnR,\n",
    "                                              category_col='author_id_y',\n",
    "                                              feats_from_spacy_doc=feat_builder,\n",
    "                                              parsed_col='parsed').build()"
   ]
  },
  {
   "cell_type": "code",
   "execution_count": 33,
   "metadata": {},
   "outputs": [],
   "source": [
    "html = st.produce_scattertext_explorer(empath_corpus,\n",
    "                                        category='British_Airways',\n",
    "                                        category_name='British Airways',\n",
    "                                        not_category_name='American Airlines',\n",
    "                                        width_in_pixels=700,\n",
    "                                        metadata=airlinesQnR['author_id_y'],\n",
    "                                        use_non_text_features=True,\n",
    "                                        use_full_doc=True,\n",
    "                                        topic_model_term_lists=feat_builder.get_top_model_term_lists())"
   ]
  },
  {
   "cell_type": "code",
   "execution_count": 34,
   "metadata": {},
   "outputs": [
    {
     "data": {
      "text/html": [
       "\n",
       "        <iframe\n",
       "            width=\"900\"\n",
       "            height=\"700\"\n",
       "            src=\"empath-BA-vs-AA.html\"\n",
       "            frameborder=\"0\"\n",
       "            allowfullscreen\n",
       "        ></iframe>\n",
       "        "
      ],
      "text/plain": [
       "<IPython.lib.display.IFrame at 0x1e760fd5b38>"
      ]
     },
     "execution_count": 34,
     "metadata": {},
     "output_type": "execute_result"
    }
   ],
   "source": [
    "filename = \"empath-BA-vs-AA.html\"\n",
    "open(filename, 'wb').write(html.encode('utf-8'))\n",
    "IFrame(src=filename, width = 900, height=700)"
   ]
  },
  {
   "cell_type": "code",
   "execution_count": 45,
   "metadata": {},
   "outputs": [],
   "source": [
    "corpus = (st.CorpusFromParsedDocuments(airlinesQnR,\n",
    "                             category_col='author_id_y',\n",
    "                             parsed_col='parsed').build().get_stoplisted_unigram_corpus())"
   ]
  },
  {
   "cell_type": "code",
   "execution_count": 46,
   "metadata": {},
   "outputs": [
    {
     "ename": "OSError",
     "evalue": "[E050] Can't find model 'en'. It doesn't seem to be a shortcut link, a Python package or a valid path to a data directory.",
     "output_type": "error",
     "traceback": [
      "\u001b[1;31m---------------------------------------------------------------------------\u001b[0m",
      "\u001b[1;31mOSError\u001b[0m                                   Traceback (most recent call last)",
      "\u001b[1;32m<ipython-input-46-a722677d659d>\u001b[0m in \u001b[0;36m<module>\u001b[1;34m\u001b[0m\n\u001b[0;32m      6\u001b[0m                                    \u001b[0mtarget_term\u001b[0m\u001b[1;33m=\u001b[0m\u001b[0mtarget_term\u001b[0m\u001b[1;33m,\u001b[0m\u001b[1;33m\u001b[0m\u001b[0m\n\u001b[0;32m      7\u001b[0m                                    \u001b[0mminimum_term_frequency\u001b[0m\u001b[1;33m=\u001b[0m\u001b[1;36m5\u001b[0m\u001b[1;33m,\u001b[0m\u001b[1;33m\u001b[0m\u001b[0m\n\u001b[1;32m----> 8\u001b[1;33m                                    width_in_pixels=800)\n\u001b[0m",
      "\u001b[1;32mc:\\python36\\lib\\site-packages\\scattertext\\__init__.py\u001b[0m in \u001b[0;36mword_similarity_explorer\u001b[1;34m(corpus, category, category_name, not_category_name, target_term, nlp, alpha, max_p_val, **kwargs)\u001b[0m\n\u001b[0;32m    818\u001b[0m     \u001b[1;32mif\u001b[0m \u001b[0mnlp\u001b[0m \u001b[1;32mis\u001b[0m \u001b[1;32mNone\u001b[0m\u001b[1;33m:\u001b[0m\u001b[1;33m\u001b[0m\u001b[0m\n\u001b[0;32m    819\u001b[0m         \u001b[1;32mimport\u001b[0m \u001b[0mspacy\u001b[0m\u001b[1;33m\u001b[0m\u001b[0m\n\u001b[1;32m--> 820\u001b[1;33m         \u001b[0mnlp\u001b[0m \u001b[1;33m=\u001b[0m \u001b[0mspacy\u001b[0m\u001b[1;33m.\u001b[0m\u001b[0mload\u001b[0m\u001b[1;33m(\u001b[0m\u001b[1;34m'en'\u001b[0m\u001b[1;33m)\u001b[0m\u001b[1;33m\u001b[0m\u001b[0m\n\u001b[0m\u001b[0;32m    821\u001b[0m \u001b[1;33m\u001b[0m\u001b[0m\n\u001b[0;32m    822\u001b[0m     \u001b[0mbase_term\u001b[0m \u001b[1;33m=\u001b[0m \u001b[0mnlp\u001b[0m\u001b[1;33m(\u001b[0m\u001b[0mtarget_term\u001b[0m\u001b[1;33m)\u001b[0m\u001b[1;33m\u001b[0m\u001b[0m\n",
      "\u001b[1;32mc:\\python36\\lib\\site-packages\\spacy\\__init__.py\u001b[0m in \u001b[0;36mload\u001b[1;34m(name, **overrides)\u001b[0m\n\u001b[0;32m     19\u001b[0m     \u001b[1;32mif\u001b[0m \u001b[0mdepr_path\u001b[0m \u001b[1;32mnot\u001b[0m \u001b[1;32min\u001b[0m \u001b[1;33m(\u001b[0m\u001b[1;32mTrue\u001b[0m\u001b[1;33m,\u001b[0m \u001b[1;32mFalse\u001b[0m\u001b[1;33m,\u001b[0m \u001b[1;32mNone\u001b[0m\u001b[1;33m)\u001b[0m\u001b[1;33m:\u001b[0m\u001b[1;33m\u001b[0m\u001b[0m\n\u001b[0;32m     20\u001b[0m         \u001b[0mdeprecation_warning\u001b[0m\u001b[1;33m(\u001b[0m\u001b[0mWarnings\u001b[0m\u001b[1;33m.\u001b[0m\u001b[0mW001\u001b[0m\u001b[1;33m.\u001b[0m\u001b[0mformat\u001b[0m\u001b[1;33m(\u001b[0m\u001b[0mpath\u001b[0m\u001b[1;33m=\u001b[0m\u001b[0mdepr_path\u001b[0m\u001b[1;33m)\u001b[0m\u001b[1;33m)\u001b[0m\u001b[1;33m\u001b[0m\u001b[0m\n\u001b[1;32m---> 21\u001b[1;33m     \u001b[1;32mreturn\u001b[0m \u001b[0mutil\u001b[0m\u001b[1;33m.\u001b[0m\u001b[0mload_model\u001b[0m\u001b[1;33m(\u001b[0m\u001b[0mname\u001b[0m\u001b[1;33m,\u001b[0m \u001b[1;33m**\u001b[0m\u001b[0moverrides\u001b[0m\u001b[1;33m)\u001b[0m\u001b[1;33m\u001b[0m\u001b[0m\n\u001b[0m\u001b[0;32m     22\u001b[0m \u001b[1;33m\u001b[0m\u001b[0m\n\u001b[0;32m     23\u001b[0m \u001b[1;33m\u001b[0m\u001b[0m\n",
      "\u001b[1;32mc:\\python36\\lib\\site-packages\\spacy\\util.py\u001b[0m in \u001b[0;36mload_model\u001b[1;34m(name, **overrides)\u001b[0m\n\u001b[0;32m    117\u001b[0m     \u001b[1;32melif\u001b[0m \u001b[0mhasattr\u001b[0m\u001b[1;33m(\u001b[0m\u001b[0mname\u001b[0m\u001b[1;33m,\u001b[0m \u001b[1;34m'exists'\u001b[0m\u001b[1;33m)\u001b[0m\u001b[1;33m:\u001b[0m  \u001b[1;31m# Path or Path-like to model data\u001b[0m\u001b[1;33m\u001b[0m\u001b[0m\n\u001b[0;32m    118\u001b[0m         \u001b[1;32mreturn\u001b[0m \u001b[0mload_model_from_path\u001b[0m\u001b[1;33m(\u001b[0m\u001b[0mname\u001b[0m\u001b[1;33m,\u001b[0m \u001b[1;33m**\u001b[0m\u001b[0moverrides\u001b[0m\u001b[1;33m)\u001b[0m\u001b[1;33m\u001b[0m\u001b[0m\n\u001b[1;32m--> 119\u001b[1;33m     \u001b[1;32mraise\u001b[0m \u001b[0mIOError\u001b[0m\u001b[1;33m(\u001b[0m\u001b[0mErrors\u001b[0m\u001b[1;33m.\u001b[0m\u001b[0mE050\u001b[0m\u001b[1;33m.\u001b[0m\u001b[0mformat\u001b[0m\u001b[1;33m(\u001b[0m\u001b[0mname\u001b[0m\u001b[1;33m=\u001b[0m\u001b[0mname\u001b[0m\u001b[1;33m)\u001b[0m\u001b[1;33m)\u001b[0m\u001b[1;33m\u001b[0m\u001b[0m\n\u001b[0m\u001b[0;32m    120\u001b[0m \u001b[1;33m\u001b[0m\u001b[0m\n\u001b[0;32m    121\u001b[0m \u001b[1;33m\u001b[0m\u001b[0m\n",
      "\u001b[1;31mOSError\u001b[0m: [E050] Can't find model 'en'. It doesn't seem to be a shortcut link, a Python package or a valid path to a data directory."
     ]
    }
   ],
   "source": [
    "target_term = 'delay'\n",
    "html = st.word_similarity_explorer(corpus,\n",
    "                                   category='British_Airways',\n",
    "                                   category_name='British Airways',\n",
    "                                   not_category_name='American Airlines',\n",
    "                                   target_term=target_term,\n",
    "                                   minimum_term_frequency=5,\n",
    "                                   width_in_pixels=800)"
   ]
  },
  {
   "cell_type": "code",
   "execution_count": 48,
   "metadata": {},
   "outputs": [
    {
     "data": {
      "text/html": [
       "\n",
       "        <iframe\n",
       "            width=\"1000\"\n",
       "            height=\"700\"\n",
       "            src=\"similarity.html\"\n",
       "            frameborder=\"0\"\n",
       "            allowfullscreen\n",
       "        ></iframe>\n",
       "        "
      ],
      "text/plain": [
       "<IPython.lib.display.IFrame at 0x1f7b282f9e8>"
      ]
     },
     "execution_count": 48,
     "metadata": {},
     "output_type": "execute_result"
    }
   ],
   "source": [
    "file_name = 'similarity.html'\n",
    "open(file_name, 'wb').write(html.encode('utf-8'))\n",
    "IFrame(src=file_name, width = 1000, height=700)"
   ]
  },
  {
   "cell_type": "code",
   "execution_count": 49,
   "metadata": {},
   "outputs": [
    {
     "name": "stdout",
     "output_type": "stream",
     "text": [
      "text sentiment :  0.4215\n",
      "{'neg': 0.0, 'neu': 0.417, 'pos': 0.583, 'compound': 0.4215}\n"
     ]
    }
   ],
   "source": [
    "analyser = SentimentIntensityAnalyzer()\n",
    "text = \"you are nice\"\n",
    "score1= analyser.polarity_scores(text)\n",
    "score=sent_analyser.polarity_scores(text)[\"compound\"]\n",
    "print(\"text sentiment : \",sent_analyser.polarity_scores(text)[\"compound\"])\n",
    "print(score1)\n",
    "\n",
    "\n",
    "\n"
   ]
  },
  {
   "cell_type": "code",
   "execution_count": 1,
   "metadata": {},
   "outputs": [
    {
     "ename": "NameError",
     "evalue": "name 'QnR' is not defined",
     "output_type": "error",
     "traceback": [
      "\u001b[1;31m---------------------------------------------------------------------------\u001b[0m",
      "\u001b[1;31mNameError\u001b[0m                                 Traceback (most recent call last)",
      "\u001b[1;32m<ipython-input-1-72e53fb8eab3>\u001b[0m in \u001b[0;36m<module>\u001b[1;34m\u001b[0m\n\u001b[1;32m----> 1\u001b[1;33m \u001b[0mamazonQnR\u001b[0m \u001b[1;33m=\u001b[0m \u001b[0mQnR\u001b[0m\u001b[1;33m[\u001b[0m\u001b[0mQnR\u001b[0m\u001b[1;33m[\u001b[0m\u001b[1;34m\"author_id_y\"\u001b[0m\u001b[1;33m]\u001b[0m\u001b[1;33m==\u001b[0m\u001b[1;34m\"AmazonHelp\"\u001b[0m\u001b[1;33m]\u001b[0m\u001b[1;33m\u001b[0m\u001b[0m\n\u001b[0m",
      "\u001b[1;31mNameError\u001b[0m: name 'QnR' is not defined"
     ]
    }
   ],
   "source": [
    "amazonQnR = QnR[QnR[\"author_id_y\"]==\"AmazonHelp\"]"
   ]
  },
  {
   "cell_type": "code",
   "execution_count": 94,
   "metadata": {},
   "outputs": [],
   "source": [
    "def sentiment(text):\n",
    "       return (sent_analyser.polarity_scores(text)[\"compound\"] + TextBlob(text).sentiment.polarity)/2\n",
    "amazonQnR[\"text_x_sentiment\"] = amazonQnR[\"text_x\"].apply(sentiment)\n",
    "response_emojis_for_positive_queries = []\n",
    "response_emojis_for_negative_queries = [] \n",
    "for i,sentiment in enumerate(amazonQnR[\"text_x_sentiment\"]):\n",
    "    if sentiment > 0.0:\n",
    "        response_emojis_for_positive_queries.append(sentiment)\n",
    "    elif sentiment < 0.0:\n",
    "        response_emojis_for_negative_queries.append(sentiment)\n"
   ]
  },
  {
   "cell_type": "code",
   "execution_count": 101,
   "metadata": {},
   "outputs": [],
   "source": [
    "britishQnR = QnR[QnR[\"author_id_y\"]==\"British_Airways\"]"
   ]
  },
  {
   "cell_type": "code",
   "execution_count": 103,
   "metadata": {},
   "outputs": [],
   "source": [
    "\n",
    "def sentiment(text):\n",
    "       return (sent_analyser.polarity_scores(text)[\"compound\"] + TextBlob(text).sentiment.polarity)/2\n",
    "britishQnR[\"text_x_sentiment\"] = britishQnR[\"text_x\"].apply(sentiment)\n",
    "response_emojis_for_positive_queries1 = []\n",
    "response_emojis_for_negative_queries1 = [] \n",
    "for i,sentiment in enumerate(amazonQnR[\"text_x_sentiment\"]):\n",
    "    if sentiment > 0.0:\n",
    "        response_emojis_for_positive_queries1.append(sentiment)\n",
    "    elif sentiment < 0.0:\n",
    "        response_emojis_for_negative_queries1.append(sentiment)\n",
    "\n"
   ]
  },
  {
   "cell_type": "code",
   "execution_count": 126,
   "metadata": {},
   "outputs": [
    {
     "name": "stdout",
     "output_type": "stream",
     "text": [
      "34 30\n"
     ]
    }
   ],
   "source": [
    "\n",
    "c1=len(response_emojis_for_negative_queries)\n",
    "c2=len(response_emojis_for_positive_queries)\n",
    "\n",
    "c3=len(response_emojis_for_negative_queries1)\n",
    "c4=len(response_emojis_for_positive_queries1)\n",
    "print(c1,c2)\n",
    "\n"
   ]
  },
  {
   "cell_type": "code",
   "execution_count": 123,
   "metadata": {},
   "outputs": [
    {
     "data": {
      "image/png": "[encoded data removed]",
      "text/plain": [
       "<Figure size 432x288 with 1 Axes>"
      ]
     },
     "metadata": {
      "needs_background": "light"
     },
     "output_type": "display_data"
    }
   ],
   "source": [
    "import matplotlib.pyplot as plt \n",
    "  \n",
    "# x-coordinates of left sides of bars  \n",
    "x = [\"Negative\",\"Possitive\"] \n",
    "\n",
    "y=[c1,c2]\n",
    "\n",
    "  \n",
    "# labels for bars \n",
    "\n",
    "# plotting a bar chart \n",
    "plt.bar(x, y, \n",
    "        width = 0.8, color = ['red', 'green']) \n",
    "\n",
    "  \n",
    "# naming the x-axis \n",
    "plt.xlabel('x - axis') \n",
    "# naming the y-axis \n",
    "plt.ylabel('y - axis') \n",
    "# plot title \n",
    "plt.title('Sentiment Score For Amazon!') \n",
    "  \n",
    "# function to show the plot \n",
    "plt.show() "
   ]
  },
  {
   "cell_type": "code",
   "execution_count": null,
   "metadata": {},
   "outputs": [],
   "source": []
  },
  {
   "cell_type": "code",
   "execution_count": null,
   "metadata": {},
   "outputs": [],
   "source": []
  },
  {
   "cell_type": "code",
   "execution_count": null,
   "metadata": {},
   "outputs": [],
   "source": []
  }
 ],
 "metadata": {
  "kernelspec": {
   "display_name": "Python 3",
   "language": "python",
   "name": "python3"
  },
  "language_info": {
   "codemirror_mode": {
    "name": "ipython",
    "version": 3
   },
   "file_extension": ".py",
   "mimetype": "text/x-python",
   "name": "python",
   "nbconvert_exporter": "python",
   "pygments_lexer": "ipython3",
   "version": "3.6.3"
  }
 },
 "nbformat": 4,
 "nbformat_minor": 2
}
